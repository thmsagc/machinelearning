{
  "nbformat": 4,
  "nbformat_minor": 0,
  "metadata": {
    "colab": {
      "name": "Prova2IAQ1.ipynb",
      "provenance": [],
      "collapsed_sections": []
    },
    "kernelspec": {
      "name": "python3",
      "display_name": "Python 3"
    }
  },
  "cells": [
    {
      "cell_type": "markdown",
      "metadata": {
        "id": "ZvKuzqyckLZe"
      },
      "source": [
        "**INFORMAÇÕES**\n",
        "\n",
        "\n",
        "\n",
        "> **Notebook referente a primeira questão da segunda prova da disciplina Introdução a Inteligência Artifical (UFPB/2020.1), ministrada pela professora Dra. Thaís Gaudencio do Rêgo.**\n",
        "\n",
        "**Discente**: Thomás Augusto Gouveia Chaves\n",
        "\n",
        "**Matrícula**: 20180002671\n",
        "\n",
        "*Enunciado: Acessar a base de dados HCV e desenvolver dois algoritmos supervisionados, podendo ser Redes Neurais Artificiais, Árvore de Decisão ou outros de sua escolha, para classificação entre Doador ou Não Doador, que são positivos para Hepatite C, Fibrose ou Cirrose. Ambos modelos devem ser analisados pelas métricas: Acurácia, Especificidade, Sensibilidade e Matriz de Confusão e os resultados devem ser discutidos. Na base consta instâncias rotuladas como Possíveis Doadores (0s=suspect Blood Donor), que devem ser classificadas separadamente após a construção dos modelos, compare os resultados obtidos em cada método utilizado.*"
      ]
    },
    {
      "cell_type": "markdown",
      "metadata": {
        "id": "0MmFrvlq2yqk"
      },
      "source": [
        "**BIBLIOTECAS UTILIZADAS**"
      ]
    },
    {
      "cell_type": "code",
      "metadata": {
        "id": "m_mjQCRSBIUe"
      },
      "source": [
        "import pandas as pd\n",
        "import seaborn as sns\n",
        "import matplotlib.pyplot as plt\n",
        "from sklearn import preprocessing\n",
        "from sklearn.model_selection import train_test_split\n",
        "from sklearn.tree import DecisionTreeClassifier\n",
        "from sklearn.neighbors import KNeighborsClassifier\n",
        "from sklearn.naive_bayes import GaussianNB\n",
        "from sklearn.neural_network import MLPClassifier\n",
        "from sklearn.metrics import confusion_matrix"
      ],
      "execution_count": null,
      "outputs": []
    },
    {
      "cell_type": "markdown",
      "metadata": {
        "id": "lmdZQnyDCwz-"
      },
      "source": [
        "# **RANDOM STATE**\n",
        "\n",
        "Altere para variar os resultados dos métodos."
      ]
    },
    {
      "cell_type": "code",
      "metadata": {
        "id": "R33VfQhoCv5I"
      },
      "source": [
        "random_state = 5"
      ],
      "execution_count": null,
      "outputs": []
    },
    {
      "cell_type": "markdown",
      "metadata": {
        "id": "ApyJ9XFe24jy"
      },
      "source": [
        "**CARREGAMENTO BASE DE DADOS**"
      ]
    },
    {
      "cell_type": "markdown",
      "metadata": {
        "id": "4Mn-ieEXDLem"
      },
      "source": [
        ""
      ]
    },
    {
      "cell_type": "code",
      "metadata": {
        "id": "nSC89o9hA7VQ"
      },
      "source": [
        "data_url = \"https://archive.ics.uci.edu/ml/machine-learning-databases/00571/hcvdat0.csv\""
      ],
      "execution_count": null,
      "outputs": []
    },
    {
      "cell_type": "code",
      "metadata": {
        "colab": {
          "base_uri": "https://localhost:8080/",
          "height": 195
        },
        "id": "GszFJPgCBMfq",
        "outputId": "51c17b6f-3764-44ff-a7f1-a3e825e5d42a"
      },
      "source": [
        "dataset = pd.read_csv(data_url)\n",
        "dataset.head()"
      ],
      "execution_count": null,
      "outputs": [
        {
          "output_type": "execute_result",
          "data": {
            "text/html": [
              "<div>\n",
              "<style scoped>\n",
              "    .dataframe tbody tr th:only-of-type {\n",
              "        vertical-align: middle;\n",
              "    }\n",
              "\n",
              "    .dataframe tbody tr th {\n",
              "        vertical-align: top;\n",
              "    }\n",
              "\n",
              "    .dataframe thead th {\n",
              "        text-align: right;\n",
              "    }\n",
              "</style>\n",
              "<table border=\"1\" class=\"dataframe\">\n",
              "  <thead>\n",
              "    <tr style=\"text-align: right;\">\n",
              "      <th></th>\n",
              "      <th>Unnamed: 0</th>\n",
              "      <th>Category</th>\n",
              "      <th>Age</th>\n",
              "      <th>Sex</th>\n",
              "      <th>ALB</th>\n",
              "      <th>ALP</th>\n",
              "      <th>ALT</th>\n",
              "      <th>AST</th>\n",
              "      <th>BIL</th>\n",
              "      <th>CHE</th>\n",
              "      <th>CHOL</th>\n",
              "      <th>CREA</th>\n",
              "      <th>GGT</th>\n",
              "      <th>PROT</th>\n",
              "    </tr>\n",
              "  </thead>\n",
              "  <tbody>\n",
              "    <tr>\n",
              "      <th>0</th>\n",
              "      <td>1</td>\n",
              "      <td>0=Blood Donor</td>\n",
              "      <td>32</td>\n",
              "      <td>m</td>\n",
              "      <td>38.5</td>\n",
              "      <td>52.5</td>\n",
              "      <td>7.7</td>\n",
              "      <td>22.1</td>\n",
              "      <td>7.5</td>\n",
              "      <td>6.93</td>\n",
              "      <td>3.23</td>\n",
              "      <td>106.0</td>\n",
              "      <td>12.1</td>\n",
              "      <td>69.0</td>\n",
              "    </tr>\n",
              "    <tr>\n",
              "      <th>1</th>\n",
              "      <td>2</td>\n",
              "      <td>0=Blood Donor</td>\n",
              "      <td>32</td>\n",
              "      <td>m</td>\n",
              "      <td>38.5</td>\n",
              "      <td>70.3</td>\n",
              "      <td>18.0</td>\n",
              "      <td>24.7</td>\n",
              "      <td>3.9</td>\n",
              "      <td>11.17</td>\n",
              "      <td>4.80</td>\n",
              "      <td>74.0</td>\n",
              "      <td>15.6</td>\n",
              "      <td>76.5</td>\n",
              "    </tr>\n",
              "    <tr>\n",
              "      <th>2</th>\n",
              "      <td>3</td>\n",
              "      <td>0=Blood Donor</td>\n",
              "      <td>32</td>\n",
              "      <td>m</td>\n",
              "      <td>46.9</td>\n",
              "      <td>74.7</td>\n",
              "      <td>36.2</td>\n",
              "      <td>52.6</td>\n",
              "      <td>6.1</td>\n",
              "      <td>8.84</td>\n",
              "      <td>5.20</td>\n",
              "      <td>86.0</td>\n",
              "      <td>33.2</td>\n",
              "      <td>79.3</td>\n",
              "    </tr>\n",
              "    <tr>\n",
              "      <th>3</th>\n",
              "      <td>4</td>\n",
              "      <td>0=Blood Donor</td>\n",
              "      <td>32</td>\n",
              "      <td>m</td>\n",
              "      <td>43.2</td>\n",
              "      <td>52.0</td>\n",
              "      <td>30.6</td>\n",
              "      <td>22.6</td>\n",
              "      <td>18.9</td>\n",
              "      <td>7.33</td>\n",
              "      <td>4.74</td>\n",
              "      <td>80.0</td>\n",
              "      <td>33.8</td>\n",
              "      <td>75.7</td>\n",
              "    </tr>\n",
              "    <tr>\n",
              "      <th>4</th>\n",
              "      <td>5</td>\n",
              "      <td>0=Blood Donor</td>\n",
              "      <td>32</td>\n",
              "      <td>m</td>\n",
              "      <td>39.2</td>\n",
              "      <td>74.1</td>\n",
              "      <td>32.6</td>\n",
              "      <td>24.8</td>\n",
              "      <td>9.6</td>\n",
              "      <td>9.15</td>\n",
              "      <td>4.32</td>\n",
              "      <td>76.0</td>\n",
              "      <td>29.9</td>\n",
              "      <td>68.7</td>\n",
              "    </tr>\n",
              "  </tbody>\n",
              "</table>\n",
              "</div>"
            ],
            "text/plain": [
              "   Unnamed: 0       Category  Age Sex   ALB  ...    CHE  CHOL   CREA   GGT  PROT\n",
              "0           1  0=Blood Donor   32   m  38.5  ...   6.93  3.23  106.0  12.1  69.0\n",
              "1           2  0=Blood Donor   32   m  38.5  ...  11.17  4.80   74.0  15.6  76.5\n",
              "2           3  0=Blood Donor   32   m  46.9  ...   8.84  5.20   86.0  33.2  79.3\n",
              "3           4  0=Blood Donor   32   m  43.2  ...   7.33  4.74   80.0  33.8  75.7\n",
              "4           5  0=Blood Donor   32   m  39.2  ...   9.15  4.32   76.0  29.9  68.7\n",
              "\n",
              "[5 rows x 14 columns]"
            ]
          },
          "metadata": {
            "tags": []
          },
          "execution_count": 345
        }
      ]
    },
    {
      "cell_type": "markdown",
      "metadata": {
        "id": "0U0mns6b3C-M"
      },
      "source": [
        "**PRÉ PROCESSAMENTO DA BASE DE DADOS**\n",
        "\n",
        "Como é possível ver no cabeçalho da base, há um atributo 'Unnamed: 0' que não apresenta informação relevante para o método, que deve ser removido.\n",
        "\n",
        "Além disso, o atributo 'Sex' apresenta valores do tipo string. Como os valores são binários (m ou f), é possível aplicar uma transformação destes valores com a função astype(int), que transforma m para 0 e f para 1.\n",
        "\n",
        "Nesta etapa do pré processamento, também foram removidas amostras com dados faltosos e duplicados."
      ]
    },
    {
      "cell_type": "code",
      "metadata": {
        "id": "iEKwVEyVSy2c"
      },
      "source": [
        "dataset = dataset.drop('Unnamed: 0', axis=1)\n",
        "dataset['Sex'] = (dataset['Sex'] == 'f').astype(int)\n",
        "dataset = dataset.dropna()\n",
        "dataset = dataset.drop_duplicates()"
      ],
      "execution_count": null,
      "outputs": []
    },
    {
      "cell_type": "markdown",
      "metadata": {
        "id": "L77wVSqu4GfN"
      },
      "source": [
        "**SEPARAÇÃO DAS AMOSTRAS PARA CLASSIFICAÇÃO**\n",
        "\n",
        "Na base de dados, estão presentes amostras categorizadas como '0s=suspect Blood Donor', que serão reclassificadas após a construção do agente inteligente. Essas amostras são separadas da base de dados de treinamento e testes e a coluna de categoria é removida, tendo em vista que estes elas serão reclassificadas após a construção do modelo. "
      ]
    },
    {
      "cell_type": "code",
      "metadata": {
        "id": "lzseGLUhLvGM"
      },
      "source": [
        "forClassifier = dataset.loc[dataset['Category'] == '0s=suspect Blood Donor']\n",
        "forClassifier = forClassifier.drop('Category', axis=1)\n",
        "\n",
        "fcN = forClassifier.values\n",
        "robustscaler = preprocessing.StandardScaler()\n",
        "fcN_scaled = robustscaler.fit_transform(fcN)\n",
        "forClassifierN = pd.DataFrame(fcN_scaled)"
      ],
      "execution_count": null,
      "outputs": []
    },
    {
      "cell_type": "markdown",
      "metadata": {
        "id": "xPKJkxnP5HUd"
      },
      "source": [
        "**PRÉ PROCESSAMENTO DA BASE DE DADOS**\n",
        "\n",
        "Nesta etapa, é feita a separação da base de dados de treinamento e testes das amostras que serão reclassificadas após a construção do modelo.\n",
        "\n",
        "O objetivo deste modelo de agente inteligente é classificar doadores e não doadores de sangue. Inicialmente tinhamos 4 classes, 0=Blood Donor','1=Hepatitis', '2=Fibrosis', '3=Cirrhosis'. As 3 últimas classes foram generalizadas como não doador. No fim, ficamos com o valor 0 para doador e 1 para não doador."
      ]
    },
    {
      "cell_type": "code",
      "metadata": {
        "id": "owkTM71wOz8N"
      },
      "source": [
        "dataset = dataset[dataset['Category'] != '0s=suspect Blood Donor']\n",
        "dataset['Category'] = dataset['Category'].map({'0=Blood Donor': 0,'1=Hepatitis': 1, '2=Fibrosis': 1, \"3=Cirrhosis\": 1})"
      ],
      "execution_count": null,
      "outputs": []
    },
    {
      "cell_type": "markdown",
      "metadata": {
        "id": "4hwZddqm6KOe"
      },
      "source": [
        "**ANÁLISE DAS CLASSES DA BASE DE DADOS**\n",
        "\n",
        "Como é possível observar no gráfico abaixo, as classes 0 (doador) e 1 (não doador), do conjunto de treinamento, estão extremamente desbalanceadas, o que pode levar com que o modelo apresente previsões tendenciosas e equivocadas. Portanto, é preciso aplicar alguma técnica de balanceamento sobre a base de dados."
      ]
    },
    {
      "cell_type": "code",
      "metadata": {
        "colab": {
          "base_uri": "https://localhost:8080/",
          "height": 279
        },
        "id": "T1WYxKGphsDw",
        "outputId": "2795b797-d7da-43d3-b5e0-9405d352a8ca"
      },
      "source": [
        "plot = sns.countplot(x='Category', data=dataset)"
      ],
      "execution_count": null,
      "outputs": [
        {
          "output_type": "display_data",
          "data": {
            "image/png": "[encoded data removed]",
            "text/plain": [
              "<Figure size 432x288 with 1 Axes>"
            ]
          },
          "metadata": {
            "tags": [],
            "needs_background": "light"
          }
        }
      ]
    },
    {
      "cell_type": "markdown",
      "metadata": {
        "id": "2-9DmWZj6sRG"
      },
      "source": [
        "**BALANCEAMENTO DA BASE DE DADOS (UNDERSAMPLING)**\n",
        "\n",
        "Para fazer o balanceamento da base de dados, a ténica escolhida foi a undersampling, que consiste em reduzir a quantidade de amostras da classe que possui mais amostras. Neste caso, a redução foi feita na classe 0 (doador).\n",
        "\n",
        "A redução das amostras da classe 0 foi feita de modo que o balanceamento com a classe 1 fosse total. Então, foram removidas, da base de dados, número_de_amostras_da_classe_0 - número_de_amostras_da_classe 1 amostras da classe 0, de forma aleatória. Deste modo, as duas classes ficaram totalmente balanceadas."
      ]
    },
    {
      "cell_type": "code",
      "metadata": {
        "colab": {
          "base_uri": "https://localhost:8080/",
          "height": 279
        },
        "id": "qCBSFP6wiYPh",
        "outputId": "a91aac64-1c23-4129-fca5-bcced2a1513f"
      },
      "source": [
        "over = dataset[dataset['Category'] == 0].sample(n=len(dataset[dataset['Category'] == 0])-len(dataset[dataset['Category'] == 1]), random_state=random_state)\n",
        "dataset = dataset.drop(over.index, axis=0)\n",
        "\n",
        "plot = sns.countplot(x='Category', data=dataset)"
      ],
      "execution_count": null,
      "outputs": [
        {
          "output_type": "display_data",
          "data": {
            "image/png": "[encoded data removed]",
            "text/plain": [
              "<Figure size 432x288 with 1 Axes>"
            ]
          },
          "metadata": {
            "tags": [],
            "needs_background": "light"
          }
        }
      ]
    },
    {
      "cell_type": "code",
      "metadata": {
        "id": "3h54mWfmh6uX"
      },
      "source": [
        "X = dataset.drop('Category', axis=1)\n",
        "y = dataset['Category']"
      ],
      "execution_count": null,
      "outputs": []
    },
    {
      "cell_type": "markdown",
      "metadata": {
        "id": "v0vHSB9Z8ToT"
      },
      "source": [
        "**ANÁLISE SOBRE A MÉDIA E A MEDIANA DOS ATRIBUTOS**\n",
        "\n",
        "Observando a média e a mediana dos atributos, é possível notar que, em algum deles, há uma variação considerável entre elas, o que indica a presença de outliers na base de dados. Por isso, é importante aplicar uma normalização que atenue estes outliers. \n"
      ]
    },
    {
      "cell_type": "code",
      "metadata": {
        "colab": {
          "base_uri": "https://localhost:8080/"
        },
        "id": "gz4sDXrew7rL",
        "outputId": "2c0c2fc1-c5c8-46f4-9b16-5a4bd4134aab"
      },
      "source": [
        "print('Mean:\\n', X.mean())\n",
        "print('\\nMedian:\\n', X.median())"
      ],
      "execution_count": null,
      "outputs": [
        {
          "output_type": "stream",
          "text": [
            "Mean:\n",
            " Age     47.580357\n",
            "Sex      0.321429\n",
            "ALB     39.999107\n",
            "ALP     64.395536\n",
            "ALT     21.115179\n",
            "AST     63.194643\n",
            "BIL     21.617857\n",
            "CHE      7.416071\n",
            "CHOL     5.024911\n",
            "CREA    94.116964\n",
            "GGT     70.410714\n",
            "PROT    71.158036\n",
            "dtype: float64\n",
            "\n",
            "Median:\n",
            " Age     46.500\n",
            "Sex      0.000\n",
            "ALB     41.000\n",
            "ALP     54.900\n",
            "ALT     18.000\n",
            "AST     35.700\n",
            "BIL     10.000\n",
            "CHE      7.535\n",
            "CHOL     4.910\n",
            "CREA    75.150\n",
            "GGT     35.900\n",
            "PROT    71.150\n",
            "dtype: float64\n"
          ],
          "name": "stdout"
        }
      ]
    },
    {
      "cell_type": "markdown",
      "metadata": {
        "id": "cG9Quy008Syp"
      },
      "source": [
        "**NORMALIZAÇÃO DA BASE DE DADOS**\n",
        "\n",
        "A normalização permite a atenuação dos outliers.\n",
        "\n",
        "A normalização constrói um novo pandas.DataFrame, normalizado com o método StandardScaler, a partir dos valores de entrada da base de dados."
      ]
    },
    {
      "cell_type": "code",
      "metadata": {
        "id": "KH6pTAbVKtb_"
      },
      "source": [
        "x = X.values\n",
        "robustscaler = preprocessing.StandardScaler()\n",
        "x_scaled = robustscaler.fit_transform(x)\n",
        "X_normalized = pd.DataFrame(x_scaled)"
      ],
      "execution_count": null,
      "outputs": []
    },
    {
      "cell_type": "markdown",
      "metadata": {
        "id": "KhH0UlbQ5u5G"
      },
      "source": [
        "**DIVISÃO DA BASE DE DADOS PARA TREINAMENTO E TESTES**\n",
        "\n",
        "Divisão da base de dados em 80% para treinamento e 20% para testes."
      ]
    },
    {
      "cell_type": "code",
      "metadata": {
        "id": "nbGF97WWIYw7"
      },
      "source": [
        "X_trainN, X_testN, y_trainN, y_testN = train_test_split(X_normalized, y, test_size=0.20, random_state=random_state)\n",
        "X_train, X_test, y_train, y_test = train_test_split(X, y, test_size=0.20, random_state=random_state)\n"
      ],
      "execution_count": null,
      "outputs": []
    },
    {
      "cell_type": "markdown",
      "metadata": {
        "id": "NiaStbX1-JCm"
      },
      "source": [
        "**ANÁLISE DA CORRELAÇÃO ENTRE OS ATRIBUTOS DA BASE DE DADOS**\n",
        "\n",
        "Observando o gráfico abaixo, é possível notar que a correlação entre os atributos da base de dados não é alta o suficiente para desconsiderarmos algum deles na construção do modelo. Portanto, todos os atributos devem ser mantidos no treinamento do agente."
      ]
    },
    {
      "cell_type": "code",
      "metadata": {
        "colab": {
          "base_uri": "https://localhost:8080/",
          "height": 278
        },
        "id": "Tji_Q-3hw9Oy",
        "outputId": "b3b9b7df-8461-4276-9a57-18a77a75624c"
      },
      "source": [
        "corr = X.corr()\n",
        "corr.style.background_gradient(cmap='coolwarm')"
      ],
      "execution_count": null,
      "outputs": [
        {
          "output_type": "execute_result",
          "data": {
            "text/html": [
              "<style  type=\"text/css\" >\n",
              "#T_61800860_38f9_11eb_b73b_0242ac1c0002row0_col0,#T_61800860_38f9_11eb_b73b_0242ac1c0002row1_col1,#T_61800860_38f9_11eb_b73b_0242ac1c0002row2_col2,#T_61800860_38f9_11eb_b73b_0242ac1c0002row3_col3,#T_61800860_38f9_11eb_b73b_0242ac1c0002row4_col4,#T_61800860_38f9_11eb_b73b_0242ac1c0002row5_col5,#T_61800860_38f9_11eb_b73b_0242ac1c0002row6_col6,#T_61800860_38f9_11eb_b73b_0242ac1c0002row7_col7,#T_61800860_38f9_11eb_b73b_0242ac1c0002row8_col8,#T_61800860_38f9_11eb_b73b_0242ac1c0002row9_col9,#T_61800860_38f9_11eb_b73b_0242ac1c0002row10_col10,#T_61800860_38f9_11eb_b73b_0242ac1c0002row11_col11{\n",
              "            background-color:  #b40426;\n",
              "            color:  #f1f1f1;\n",
              "        }#T_61800860_38f9_11eb_b73b_0242ac1c0002row0_col1{\n",
              "            background-color:  #8badfd;\n",
              "            color:  #000000;\n",
              "        }#T_61800860_38f9_11eb_b73b_0242ac1c0002row0_col2,#T_61800860_38f9_11eb_b73b_0242ac1c0002row3_col11{\n",
              "            background-color:  #465ecf;\n",
              "            color:  #f1f1f1;\n",
              "        }#T_61800860_38f9_11eb_b73b_0242ac1c0002row0_col3{\n",
              "            background-color:  #b2ccfb;\n",
              "            color:  #000000;\n",
              "        }#T_61800860_38f9_11eb_b73b_0242ac1c0002row0_col4{\n",
              "            background-color:  #455cce;\n",
              "            color:  #f1f1f1;\n",
              "        }#T_61800860_38f9_11eb_b73b_0242ac1c0002row0_col5,#T_61800860_38f9_11eb_b73b_0242ac1c0002row3_col8{\n",
              "            background-color:  #aec9fc;\n",
              "            color:  #000000;\n",
              "        }#T_61800860_38f9_11eb_b73b_0242ac1c0002row0_col6{\n",
              "            background-color:  #cdd9ec;\n",
              "            color:  #000000;\n",
              "        }#T_61800860_38f9_11eb_b73b_0242ac1c0002row0_col7{\n",
              "            background-color:  #6180e9;\n",
              "            color:  #000000;\n",
              "        }#T_61800860_38f9_11eb_b73b_0242ac1c0002row0_col8,#T_61800860_38f9_11eb_b73b_0242ac1c0002row4_col3,#T_61800860_38f9_11eb_b73b_0242ac1c0002row5_col2{\n",
              "            background-color:  #6788ee;\n",
              "            color:  #000000;\n",
              "        }#T_61800860_38f9_11eb_b73b_0242ac1c0002row0_col9{\n",
              "            background-color:  #6384eb;\n",
              "            color:  #000000;\n",
              "        }#T_61800860_38f9_11eb_b73b_0242ac1c0002row0_col10,#T_61800860_38f9_11eb_b73b_0242ac1c0002row1_col3,#T_61800860_38f9_11eb_b73b_0242ac1c0002row3_col5{\n",
              "            background-color:  #9ebeff;\n",
              "            color:  #000000;\n",
              "        }#T_61800860_38f9_11eb_b73b_0242ac1c0002row0_col11{\n",
              "            background-color:  #4055c8;\n",
              "            color:  #f1f1f1;\n",
              "        }#T_61800860_38f9_11eb_b73b_0242ac1c0002row1_col0{\n",
              "            background-color:  #b1cbfc;\n",
              "            color:  #000000;\n",
              "        }#T_61800860_38f9_11eb_b73b_0242ac1c0002row1_col2{\n",
              "            background-color:  #7a9df8;\n",
              "            color:  #000000;\n",
              "        }#T_61800860_38f9_11eb_b73b_0242ac1c0002row1_col4,#T_61800860_38f9_11eb_b73b_0242ac1c0002row2_col5{\n",
              "            background-color:  #5977e3;\n",
              "            color:  #000000;\n",
              "        }#T_61800860_38f9_11eb_b73b_0242ac1c0002row1_col5{\n",
              "            background-color:  #6b8df0;\n",
              "            color:  #000000;\n",
              "        }#T_61800860_38f9_11eb_b73b_0242ac1c0002row1_col6,#T_61800860_38f9_11eb_b73b_0242ac1c0002row5_col4{\n",
              "            background-color:  #9bbcff;\n",
              "            color:  #000000;\n",
              "        }#T_61800860_38f9_11eb_b73b_0242ac1c0002row1_col7{\n",
              "            background-color:  #96b7ff;\n",
              "            color:  #000000;\n",
              "        }#T_61800860_38f9_11eb_b73b_0242ac1c0002row1_col8,#T_61800860_38f9_11eb_b73b_0242ac1c0002row6_col3{\n",
              "            background-color:  #a2c1ff;\n",
              "            color:  #000000;\n",
              "        }#T_61800860_38f9_11eb_b73b_0242ac1c0002row1_col9,#T_61800860_38f9_11eb_b73b_0242ac1c0002row6_col8{\n",
              "            background-color:  #516ddb;\n",
              "            color:  #000000;\n",
              "        }#T_61800860_38f9_11eb_b73b_0242ac1c0002row1_col10{\n",
              "            background-color:  #4e68d8;\n",
              "            color:  #000000;\n",
              "        }#T_61800860_38f9_11eb_b73b_0242ac1c0002row1_col11{\n",
              "            background-color:  #86a9fc;\n",
              "            color:  #000000;\n",
              "        }#T_61800860_38f9_11eb_b73b_0242ac1c0002row2_col0,#T_61800860_38f9_11eb_b73b_0242ac1c0002row2_col3,#T_61800860_38f9_11eb_b73b_0242ac1c0002row4_col1,#T_61800860_38f9_11eb_b73b_0242ac1c0002row4_col9,#T_61800860_38f9_11eb_b73b_0242ac1c0002row5_col8,#T_61800860_38f9_11eb_b73b_0242ac1c0002row6_col2,#T_61800860_38f9_11eb_b73b_0242ac1c0002row6_col4,#T_61800860_38f9_11eb_b73b_0242ac1c0002row6_col7,#T_61800860_38f9_11eb_b73b_0242ac1c0002row7_col5,#T_61800860_38f9_11eb_b73b_0242ac1c0002row7_col6,#T_61800860_38f9_11eb_b73b_0242ac1c0002row7_col10,#T_61800860_38f9_11eb_b73b_0242ac1c0002row8_col5,#T_61800860_38f9_11eb_b73b_0242ac1c0002row9_col11,#T_61800860_38f9_11eb_b73b_0242ac1c0002row11_col9{\n",
              "            background-color:  #3b4cc0;\n",
              "            color:  #f1f1f1;\n",
              "        }#T_61800860_38f9_11eb_b73b_0242ac1c0002row2_col1,#T_61800860_38f9_11eb_b73b_0242ac1c0002row5_col1{\n",
              "            background-color:  #3f53c6;\n",
              "            color:  #f1f1f1;\n",
              "        }#T_61800860_38f9_11eb_b73b_0242ac1c0002row2_col4{\n",
              "            background-color:  #d9dce1;\n",
              "            color:  #000000;\n",
              "        }#T_61800860_38f9_11eb_b73b_0242ac1c0002row2_col6,#T_61800860_38f9_11eb_b73b_0242ac1c0002row10_col1{\n",
              "            background-color:  #506bda;\n",
              "            color:  #000000;\n",
              "        }#T_61800860_38f9_11eb_b73b_0242ac1c0002row2_col7{\n",
              "            background-color:  #f18d6f;\n",
              "            color:  #000000;\n",
              "        }#T_61800860_38f9_11eb_b73b_0242ac1c0002row2_col8{\n",
              "            background-color:  #d7dce3;\n",
              "            color:  #000000;\n",
              "        }#T_61800860_38f9_11eb_b73b_0242ac1c0002row2_col9,#T_61800860_38f9_11eb_b73b_0242ac1c0002row7_col1{\n",
              "            background-color:  #4961d2;\n",
              "            color:  #f1f1f1;\n",
              "        }#T_61800860_38f9_11eb_b73b_0242ac1c0002row2_col10{\n",
              "            background-color:  #4257c9;\n",
              "            color:  #f1f1f1;\n",
              "        }#T_61800860_38f9_11eb_b73b_0242ac1c0002row2_col11{\n",
              "            background-color:  #ebd3c6;\n",
              "            color:  #000000;\n",
              "        }#T_61800860_38f9_11eb_b73b_0242ac1c0002row3_col0{\n",
              "            background-color:  #c0d4f5;\n",
              "            color:  #000000;\n",
              "        }#T_61800860_38f9_11eb_b73b_0242ac1c0002row3_col1,#T_61800860_38f9_11eb_b73b_0242ac1c0002row11_col10{\n",
              "            background-color:  #88abfd;\n",
              "            color:  #000000;\n",
              "        }#T_61800860_38f9_11eb_b73b_0242ac1c0002row3_col2,#T_61800860_38f9_11eb_b73b_0242ac1c0002row6_col9{\n",
              "            background-color:  #5b7ae5;\n",
              "            color:  #000000;\n",
              "        }#T_61800860_38f9_11eb_b73b_0242ac1c0002row3_col4,#T_61800860_38f9_11eb_b73b_0242ac1c0002row4_col6,#T_61800860_38f9_11eb_b73b_0242ac1c0002row11_col0{\n",
              "            background-color:  #6c8ff1;\n",
              "            color:  #000000;\n",
              "        }#T_61800860_38f9_11eb_b73b_0242ac1c0002row3_col6,#T_61800860_38f9_11eb_b73b_0242ac1c0002row6_col5{\n",
              "            background-color:  #c9d7f0;\n",
              "            color:  #000000;\n",
              "        }#T_61800860_38f9_11eb_b73b_0242ac1c0002row3_col7,#T_61800860_38f9_11eb_b73b_0242ac1c0002row10_col7,#T_61800860_38f9_11eb_b73b_0242ac1c0002row10_col11,#T_61800860_38f9_11eb_b73b_0242ac1c0002row11_col6{\n",
              "            background-color:  #8caffe;\n",
              "            color:  #000000;\n",
              "        }#T_61800860_38f9_11eb_b73b_0242ac1c0002row3_col9{\n",
              "            background-color:  #abc8fd;\n",
              "            color:  #000000;\n",
              "        }#T_61800860_38f9_11eb_b73b_0242ac1c0002row3_col10{\n",
              "            background-color:  #f6bea4;\n",
              "            color:  #000000;\n",
              "        }#T_61800860_38f9_11eb_b73b_0242ac1c0002row4_col0{\n",
              "            background-color:  #5572df;\n",
              "            color:  #000000;\n",
              "        }#T_61800860_38f9_11eb_b73b_0242ac1c0002row4_col2{\n",
              "            background-color:  #e5d8d1;\n",
              "            color:  #000000;\n",
              "        }#T_61800860_38f9_11eb_b73b_0242ac1c0002row4_col5{\n",
              "            background-color:  #a6c4fe;\n",
              "            color:  #000000;\n",
              "        }#T_61800860_38f9_11eb_b73b_0242ac1c0002row4_col7{\n",
              "            background-color:  #ead5c9;\n",
              "            color:  #000000;\n",
              "        }#T_61800860_38f9_11eb_b73b_0242ac1c0002row4_col8{\n",
              "            background-color:  #ccd9ed;\n",
              "            color:  #000000;\n",
              "        }#T_61800860_38f9_11eb_b73b_0242ac1c0002row4_col10{\n",
              "            background-color:  #485fd1;\n",
              "            color:  #f1f1f1;\n",
              "        }#T_61800860_38f9_11eb_b73b_0242ac1c0002row4_col11{\n",
              "            background-color:  #93b5fe;\n",
              "            color:  #000000;\n",
              "        }#T_61800860_38f9_11eb_b73b_0242ac1c0002row5_col0{\n",
              "            background-color:  #afcafc;\n",
              "            color:  #000000;\n",
              "        }#T_61800860_38f9_11eb_b73b_0242ac1c0002row5_col3,#T_61800860_38f9_11eb_b73b_0242ac1c0002row9_col0{\n",
              "            background-color:  #8db0fe;\n",
              "            color:  #000000;\n",
              "        }#T_61800860_38f9_11eb_b73b_0242ac1c0002row5_col6{\n",
              "            background-color:  #dcdddd;\n",
              "            color:  #000000;\n",
              "        }#T_61800860_38f9_11eb_b73b_0242ac1c0002row5_col7{\n",
              "            background-color:  #5f7fe8;\n",
              "            color:  #000000;\n",
              "        }#T_61800860_38f9_11eb_b73b_0242ac1c0002row5_col9,#T_61800860_38f9_11eb_b73b_0242ac1c0002row8_col9{\n",
              "            background-color:  #4c66d6;\n",
              "            color:  #000000;\n",
              "        }#T_61800860_38f9_11eb_b73b_0242ac1c0002row5_col10{\n",
              "            background-color:  #dadce0;\n",
              "            color:  #000000;\n",
              "        }#T_61800860_38f9_11eb_b73b_0242ac1c0002row5_col11,#T_61800860_38f9_11eb_b73b_0242ac1c0002row6_col10{\n",
              "            background-color:  #98b9ff;\n",
              "            color:  #000000;\n",
              "        }#T_61800860_38f9_11eb_b73b_0242ac1c0002row6_col0{\n",
              "            background-color:  #b7cff9;\n",
              "            color:  #000000;\n",
              "        }#T_61800860_38f9_11eb_b73b_0242ac1c0002row6_col1,#T_61800860_38f9_11eb_b73b_0242ac1c0002row9_col1{\n",
              "            background-color:  #4f69d9;\n",
              "            color:  #000000;\n",
              "        }#T_61800860_38f9_11eb_b73b_0242ac1c0002row6_col11{\n",
              "            background-color:  #3e51c5;\n",
              "            color:  #f1f1f1;\n",
              "        }#T_61800860_38f9_11eb_b73b_0242ac1c0002row7_col0{\n",
              "            background-color:  #3d50c3;\n",
              "            color:  #f1f1f1;\n",
              "        }#T_61800860_38f9_11eb_b73b_0242ac1c0002row7_col2{\n",
              "            background-color:  #f39577;\n",
              "            color:  #000000;\n",
              "        }#T_61800860_38f9_11eb_b73b_0242ac1c0002row7_col3,#T_61800860_38f9_11eb_b73b_0242ac1c0002row7_col9{\n",
              "            background-color:  #5673e0;\n",
              "            color:  #000000;\n",
              "        }#T_61800860_38f9_11eb_b73b_0242ac1c0002row7_col4{\n",
              "            background-color:  #d5dbe5;\n",
              "            color:  #000000;\n",
              "        }#T_61800860_38f9_11eb_b73b_0242ac1c0002row7_col8{\n",
              "            background-color:  #f7b99e;\n",
              "            color:  #000000;\n",
              "        }#T_61800860_38f9_11eb_b73b_0242ac1c0002row7_col11{\n",
              "            background-color:  #b6cefa;\n",
              "            color:  #000000;\n",
              "        }#T_61800860_38f9_11eb_b73b_0242ac1c0002row8_col0,#T_61800860_38f9_11eb_b73b_0242ac1c0002row10_col4{\n",
              "            background-color:  #688aef;\n",
              "            color:  #000000;\n",
              "        }#T_61800860_38f9_11eb_b73b_0242ac1c0002row8_col1,#T_61800860_38f9_11eb_b73b_0242ac1c0002row9_col10{\n",
              "            background-color:  #7b9ff9;\n",
              "            color:  #000000;\n",
              "        }#T_61800860_38f9_11eb_b73b_0242ac1c0002row8_col2{\n",
              "            background-color:  #dedcdb;\n",
              "            color:  #000000;\n",
              "        }#T_61800860_38f9_11eb_b73b_0242ac1c0002row8_col3{\n",
              "            background-color:  #9fbfff;\n",
              "            color:  #000000;\n",
              "        }#T_61800860_38f9_11eb_b73b_0242ac1c0002row8_col4{\n",
              "            background-color:  #c5d6f2;\n",
              "            color:  #000000;\n",
              "        }#T_61800860_38f9_11eb_b73b_0242ac1c0002row8_col6{\n",
              "            background-color:  #7699f6;\n",
              "            color:  #000000;\n",
              "        }#T_61800860_38f9_11eb_b73b_0242ac1c0002row8_col7{\n",
              "            background-color:  #f7aa8c;\n",
              "            color:  #000000;\n",
              "        }#T_61800860_38f9_11eb_b73b_0242ac1c0002row8_col10{\n",
              "            background-color:  #6a8bef;\n",
              "            color:  #000000;\n",
              "        }#T_61800860_38f9_11eb_b73b_0242ac1c0002row8_col11{\n",
              "            background-color:  #9dbdff;\n",
              "            color:  #000000;\n",
              "        }#T_61800860_38f9_11eb_b73b_0242ac1c0002row9_col2{\n",
              "            background-color:  #81a4fb;\n",
              "            color:  #000000;\n",
              "        }#T_61800860_38f9_11eb_b73b_0242ac1c0002row9_col3{\n",
              "            background-color:  #bcd2f7;\n",
              "            color:  #000000;\n",
              "        }#T_61800860_38f9_11eb_b73b_0242ac1c0002row9_col4{\n",
              "            background-color:  #5875e1;\n",
              "            color:  #000000;\n",
              "        }#T_61800860_38f9_11eb_b73b_0242ac1c0002row9_col5,#T_61800860_38f9_11eb_b73b_0242ac1c0002row9_col8{\n",
              "            background-color:  #779af7;\n",
              "            color:  #000000;\n",
              "        }#T_61800860_38f9_11eb_b73b_0242ac1c0002row9_col6{\n",
              "            background-color:  #a5c3fe;\n",
              "            color:  #000000;\n",
              "        }#T_61800860_38f9_11eb_b73b_0242ac1c0002row9_col7{\n",
              "            background-color:  #a1c0ff;\n",
              "            color:  #000000;\n",
              "        }#T_61800860_38f9_11eb_b73b_0242ac1c0002row10_col0{\n",
              "            background-color:  #c3d5f4;\n",
              "            color:  #000000;\n",
              "        }#T_61800860_38f9_11eb_b73b_0242ac1c0002row10_col2{\n",
              "            background-color:  #7ea1fa;\n",
              "            color:  #000000;\n",
              "        }#T_61800860_38f9_11eb_b73b_0242ac1c0002row10_col3{\n",
              "            background-color:  #f7b497;\n",
              "            color:  #000000;\n",
              "        }#T_61800860_38f9_11eb_b73b_0242ac1c0002row10_col5{\n",
              "            background-color:  #ecd3c5;\n",
              "            color:  #000000;\n",
              "        }#T_61800860_38f9_11eb_b73b_0242ac1c0002row10_col6{\n",
              "            background-color:  #d2dbe8;\n",
              "            color:  #000000;\n",
              "        }#T_61800860_38f9_11eb_b73b_0242ac1c0002row10_col8{\n",
              "            background-color:  #97b8ff;\n",
              "            color:  #000000;\n",
              "        }#T_61800860_38f9_11eb_b73b_0242ac1c0002row10_col9{\n",
              "            background-color:  #80a3fa;\n",
              "            color:  #000000;\n",
              "        }#T_61800860_38f9_11eb_b73b_0242ac1c0002row11_col1{\n",
              "            background-color:  #85a8fc;\n",
              "            color:  #000000;\n",
              "        }#T_61800860_38f9_11eb_b73b_0242ac1c0002row11_col2{\n",
              "            background-color:  #f5c0a7;\n",
              "            color:  #000000;\n",
              "        }#T_61800860_38f9_11eb_b73b_0242ac1c0002row11_col3{\n",
              "            background-color:  #5d7ce6;\n",
              "            color:  #000000;\n",
              "        }#T_61800860_38f9_11eb_b73b_0242ac1c0002row11_col4{\n",
              "            background-color:  #aac7fd;\n",
              "            color:  #000000;\n",
              "        }#T_61800860_38f9_11eb_b73b_0242ac1c0002row11_col5{\n",
              "            background-color:  #bad0f8;\n",
              "            color:  #000000;\n",
              "        }#T_61800860_38f9_11eb_b73b_0242ac1c0002row11_col7{\n",
              "            background-color:  #e1dad6;\n",
              "            color:  #000000;\n",
              "        }#T_61800860_38f9_11eb_b73b_0242ac1c0002row11_col8{\n",
              "            background-color:  #bed2f6;\n",
              "            color:  #000000;\n",
              "        }</style><table id=\"T_61800860_38f9_11eb_b73b_0242ac1c0002\" ><thead>    <tr>        <th class=\"blank level0\" ></th>        <th class=\"col_heading level0 col0\" >Age</th>        <th class=\"col_heading level0 col1\" >Sex</th>        <th class=\"col_heading level0 col2\" >ALB</th>        <th class=\"col_heading level0 col3\" >ALP</th>        <th class=\"col_heading level0 col4\" >ALT</th>        <th class=\"col_heading level0 col5\" >AST</th>        <th class=\"col_heading level0 col6\" >BIL</th>        <th class=\"col_heading level0 col7\" >CHE</th>        <th class=\"col_heading level0 col8\" >CHOL</th>        <th class=\"col_heading level0 col9\" >CREA</th>        <th class=\"col_heading level0 col10\" >GGT</th>        <th class=\"col_heading level0 col11\" >PROT</th>    </tr></thead><tbody>\n",
              "                <tr>\n",
              "                        <th id=\"T_61800860_38f9_11eb_b73b_0242ac1c0002level0_row0\" class=\"row_heading level0 row0\" >Age</th>\n",
              "                        <td id=\"T_61800860_38f9_11eb_b73b_0242ac1c0002row0_col0\" class=\"data row0 col0\" >1.000000</td>\n",
              "                        <td id=\"T_61800860_38f9_11eb_b73b_0242ac1c0002row0_col1\" class=\"data row0 col1\" >0.127240</td>\n",
              "                        <td id=\"T_61800860_38f9_11eb_b73b_0242ac1c0002row0_col2\" class=\"data row0 col2\" >-0.352698</td>\n",
              "                        <td id=\"T_61800860_38f9_11eb_b73b_0242ac1c0002row0_col3\" class=\"data row0 col3\" >0.190054</td>\n",
              "                        <td id=\"T_61800860_38f9_11eb_b73b_0242ac1c0002row0_col4\" class=\"data row0 col4\" >-0.235804</td>\n",
              "                        <td id=\"T_61800860_38f9_11eb_b73b_0242ac1c0002row0_col5\" class=\"data row0 col5\" >0.122274</td>\n",
              "                        <td id=\"T_61800860_38f9_11eb_b73b_0242ac1c0002row0_col6\" class=\"data row0 col6\" >0.150065</td>\n",
              "                        <td id=\"T_61800860_38f9_11eb_b73b_0242ac1c0002row0_col7\" class=\"data row0 col7\" >-0.338755</td>\n",
              "                        <td id=\"T_61800860_38f9_11eb_b73b_0242ac1c0002row0_col8\" class=\"data row0 col8\" >-0.153182</td>\n",
              "                        <td id=\"T_61800860_38f9_11eb_b73b_0242ac1c0002row0_col9\" class=\"data row0 col9\" >-0.010994</td>\n",
              "                        <td id=\"T_61800860_38f9_11eb_b73b_0242ac1c0002row0_col10\" class=\"data row0 col10\" >0.199199</td>\n",
              "                        <td id=\"T_61800860_38f9_11eb_b73b_0242ac1c0002row0_col11\" class=\"data row0 col11\" >-0.139654</td>\n",
              "            </tr>\n",
              "            <tr>\n",
              "                        <th id=\"T_61800860_38f9_11eb_b73b_0242ac1c0002level0_row1\" class=\"row_heading level0 row1\" >Sex</th>\n",
              "                        <td id=\"T_61800860_38f9_11eb_b73b_0242ac1c0002row1_col0\" class=\"data row1 col0\" >0.127240</td>\n",
              "                        <td id=\"T_61800860_38f9_11eb_b73b_0242ac1c0002row1_col1\" class=\"data row1 col1\" >1.000000</td>\n",
              "                        <td id=\"T_61800860_38f9_11eb_b73b_0242ac1c0002row1_col2\" class=\"data row1 col2\" >-0.135029</td>\n",
              "                        <td id=\"T_61800860_38f9_11eb_b73b_0242ac1c0002row1_col3\" class=\"data row1 col3\" >0.116436</td>\n",
              "                        <td id=\"T_61800860_38f9_11eb_b73b_0242ac1c0002row1_col4\" class=\"data row1 col4\" >-0.155964</td>\n",
              "                        <td id=\"T_61800860_38f9_11eb_b73b_0242ac1c0002row1_col5\" class=\"data row1 col5\" >-0.135374</td>\n",
              "                        <td id=\"T_61800860_38f9_11eb_b73b_0242ac1c0002row1_col6\" class=\"data row1 col6\" >-0.077906</td>\n",
              "                        <td id=\"T_61800860_38f9_11eb_b73b_0242ac1c0002row1_col7\" class=\"data row1 col7\" >-0.101350</td>\n",
              "                        <td id=\"T_61800860_38f9_11eb_b73b_0242ac1c0002row1_col8\" class=\"data row1 col8\" >0.074952</td>\n",
              "                        <td id=\"T_61800860_38f9_11eb_b73b_0242ac1c0002row1_col9\" class=\"data row1 col9\" >-0.074924</td>\n",
              "                        <td id=\"T_61800860_38f9_11eb_b73b_0242ac1c0002row1_col10\" class=\"data row1 col10\" >-0.071181</td>\n",
              "                        <td id=\"T_61800860_38f9_11eb_b73b_0242ac1c0002row1_col11\" class=\"data row1 col11\" >0.108524</td>\n",
              "            </tr>\n",
              "            <tr>\n",
              "                        <th id=\"T_61800860_38f9_11eb_b73b_0242ac1c0002level0_row2\" class=\"row_heading level0 row2\" >ALB</th>\n",
              "                        <td id=\"T_61800860_38f9_11eb_b73b_0242ac1c0002row2_col0\" class=\"data row2 col0\" >-0.352698</td>\n",
              "                        <td id=\"T_61800860_38f9_11eb_b73b_0242ac1c0002row2_col1\" class=\"data row2 col1\" >-0.135029</td>\n",
              "                        <td id=\"T_61800860_38f9_11eb_b73b_0242ac1c0002row2_col2\" class=\"data row2 col2\" >1.000000</td>\n",
              "                        <td id=\"T_61800860_38f9_11eb_b73b_0242ac1c0002row2_col3\" class=\"data row2 col3\" >-0.258407</td>\n",
              "                        <td id=\"T_61800860_38f9_11eb_b73b_0242ac1c0002row2_col4\" class=\"data row2 col4\" >0.343447</td>\n",
              "                        <td id=\"T_61800860_38f9_11eb_b73b_0242ac1c0002row2_col5\" class=\"data row2 col5\" >-0.211501</td>\n",
              "                        <td id=\"T_61800860_38f9_11eb_b73b_0242ac1c0002row2_col6\" class=\"data row2 col6\" >-0.411203</td>\n",
              "                        <td id=\"T_61800860_38f9_11eb_b73b_0242ac1c0002row2_col7\" class=\"data row2 col7\" >0.661454</td>\n",
              "                        <td id=\"T_61800860_38f9_11eb_b73b_0242ac1c0002row2_col8\" class=\"data row2 col8\" >0.300800</td>\n",
              "                        <td id=\"T_61800860_38f9_11eb_b73b_0242ac1c0002row2_col9\" class=\"data row2 col9\" >-0.106190</td>\n",
              "                        <td id=\"T_61800860_38f9_11eb_b73b_0242ac1c0002row2_col10\" class=\"data row2 col10\" >-0.116798</td>\n",
              "                        <td id=\"T_61800860_38f9_11eb_b73b_0242ac1c0002row2_col11\" class=\"data row2 col11\" >0.489460</td>\n",
              "            </tr>\n",
              "            <tr>\n",
              "                        <th id=\"T_61800860_38f9_11eb_b73b_0242ac1c0002level0_row3\" class=\"row_heading level0 row3\" >ALP</th>\n",
              "                        <td id=\"T_61800860_38f9_11eb_b73b_0242ac1c0002row3_col0\" class=\"data row3 col0\" >0.190054</td>\n",
              "                        <td id=\"T_61800860_38f9_11eb_b73b_0242ac1c0002row3_col1\" class=\"data row3 col1\" >0.116436</td>\n",
              "                        <td id=\"T_61800860_38f9_11eb_b73b_0242ac1c0002row3_col2\" class=\"data row3 col2\" >-0.258407</td>\n",
              "                        <td id=\"T_61800860_38f9_11eb_b73b_0242ac1c0002row3_col3\" class=\"data row3 col3\" >1.000000</td>\n",
              "                        <td id=\"T_61800860_38f9_11eb_b73b_0242ac1c0002row3_col4\" class=\"data row3 col4\" >-0.079200</td>\n",
              "                        <td id=\"T_61800860_38f9_11eb_b73b_0242ac1c0002row3_col5\" class=\"data row3 col5\" >0.059317</td>\n",
              "                        <td id=\"T_61800860_38f9_11eb_b73b_0242ac1c0002row3_col6\" class=\"data row3 col6\" >0.130538</td>\n",
              "                        <td id=\"T_61800860_38f9_11eb_b73b_0242ac1c0002row3_col7\" class=\"data row3 col7\" >-0.142965</td>\n",
              "                        <td id=\"T_61800860_38f9_11eb_b73b_0242ac1c0002row3_col8\" class=\"data row3 col8\" >0.123440</td>\n",
              "                        <td id=\"T_61800860_38f9_11eb_b73b_0242ac1c0002row3_col9\" class=\"data row3 col9\" >0.232433</td>\n",
              "                        <td id=\"T_61800860_38f9_11eb_b73b_0242ac1c0002row3_col10\" class=\"data row3 col10\" >0.596679</td>\n",
              "                        <td id=\"T_61800860_38f9_11eb_b73b_0242ac1c0002row3_col11\" class=\"data row3 col11\" >-0.116595</td>\n",
              "            </tr>\n",
              "            <tr>\n",
              "                        <th id=\"T_61800860_38f9_11eb_b73b_0242ac1c0002level0_row4\" class=\"row_heading level0 row4\" >ALT</th>\n",
              "                        <td id=\"T_61800860_38f9_11eb_b73b_0242ac1c0002row4_col0\" class=\"data row4 col0\" >-0.235804</td>\n",
              "                        <td id=\"T_61800860_38f9_11eb_b73b_0242ac1c0002row4_col1\" class=\"data row4 col1\" >-0.155964</td>\n",
              "                        <td id=\"T_61800860_38f9_11eb_b73b_0242ac1c0002row4_col2\" class=\"data row4 col2\" >0.343447</td>\n",
              "                        <td id=\"T_61800860_38f9_11eb_b73b_0242ac1c0002row4_col3\" class=\"data row4 col3\" >-0.079200</td>\n",
              "                        <td id=\"T_61800860_38f9_11eb_b73b_0242ac1c0002row4_col4\" class=\"data row4 col4\" >1.000000</td>\n",
              "                        <td id=\"T_61800860_38f9_11eb_b73b_0242ac1c0002row4_col5\" class=\"data row4 col5\" >0.091525</td>\n",
              "                        <td id=\"T_61800860_38f9_11eb_b73b_0242ac1c0002row4_col6\" class=\"data row4 col6\" >-0.282968</td>\n",
              "                        <td id=\"T_61800860_38f9_11eb_b73b_0242ac1c0002row4_col7\" class=\"data row4 col7\" >0.319396</td>\n",
              "                        <td id=\"T_61800860_38f9_11eb_b73b_0242ac1c0002row4_col8\" class=\"data row4 col8\" >0.249046</td>\n",
              "                        <td id=\"T_61800860_38f9_11eb_b73b_0242ac1c0002row4_col9\" class=\"data row4 col9\" >-0.160309</td>\n",
              "                        <td id=\"T_61800860_38f9_11eb_b73b_0242ac1c0002row4_col10\" class=\"data row4 col10\" >-0.094190</td>\n",
              "                        <td id=\"T_61800860_38f9_11eb_b73b_0242ac1c0002row4_col11\" class=\"data row4 col11\" >0.146987</td>\n",
              "            </tr>\n",
              "            <tr>\n",
              "                        <th id=\"T_61800860_38f9_11eb_b73b_0242ac1c0002level0_row5\" class=\"row_heading level0 row5\" >AST</th>\n",
              "                        <td id=\"T_61800860_38f9_11eb_b73b_0242ac1c0002row5_col0\" class=\"data row5 col0\" >0.122274</td>\n",
              "                        <td id=\"T_61800860_38f9_11eb_b73b_0242ac1c0002row5_col1\" class=\"data row5 col1\" >-0.135374</td>\n",
              "                        <td id=\"T_61800860_38f9_11eb_b73b_0242ac1c0002row5_col2\" class=\"data row5 col2\" >-0.211501</td>\n",
              "                        <td id=\"T_61800860_38f9_11eb_b73b_0242ac1c0002row5_col3\" class=\"data row5 col3\" >0.059317</td>\n",
              "                        <td id=\"T_61800860_38f9_11eb_b73b_0242ac1c0002row5_col4\" class=\"data row5 col4\" >0.091525</td>\n",
              "                        <td id=\"T_61800860_38f9_11eb_b73b_0242ac1c0002row5_col5\" class=\"data row5 col5\" >1.000000</td>\n",
              "                        <td id=\"T_61800860_38f9_11eb_b73b_0242ac1c0002row5_col6\" class=\"data row5 col6\" >0.232686</td>\n",
              "                        <td id=\"T_61800860_38f9_11eb_b73b_0242ac1c0002row5_col7\" class=\"data row5 col7\" >-0.339881</td>\n",
              "                        <td id=\"T_61800860_38f9_11eb_b73b_0242ac1c0002row5_col8\" class=\"data row5 col8\" >-0.343648</td>\n",
              "                        <td id=\"T_61800860_38f9_11eb_b73b_0242ac1c0002row5_col9\" class=\"data row5 col9\" >-0.090137</td>\n",
              "                        <td id=\"T_61800860_38f9_11eb_b73b_0242ac1c0002row5_col10\" class=\"data row5 col10\" >0.415994</td>\n",
              "                        <td id=\"T_61800860_38f9_11eb_b73b_0242ac1c0002row5_col11\" class=\"data row5 col11\" >0.166189</td>\n",
              "            </tr>\n",
              "            <tr>\n",
              "                        <th id=\"T_61800860_38f9_11eb_b73b_0242ac1c0002level0_row6\" class=\"row_heading level0 row6\" >BIL</th>\n",
              "                        <td id=\"T_61800860_38f9_11eb_b73b_0242ac1c0002row6_col0\" class=\"data row6 col0\" >0.150065</td>\n",
              "                        <td id=\"T_61800860_38f9_11eb_b73b_0242ac1c0002row6_col1\" class=\"data row6 col1\" >-0.077906</td>\n",
              "                        <td id=\"T_61800860_38f9_11eb_b73b_0242ac1c0002row6_col2\" class=\"data row6 col2\" >-0.411203</td>\n",
              "                        <td id=\"T_61800860_38f9_11eb_b73b_0242ac1c0002row6_col3\" class=\"data row6 col3\" >0.130538</td>\n",
              "                        <td id=\"T_61800860_38f9_11eb_b73b_0242ac1c0002row6_col4\" class=\"data row6 col4\" >-0.282968</td>\n",
              "                        <td id=\"T_61800860_38f9_11eb_b73b_0242ac1c0002row6_col5\" class=\"data row6 col5\" >0.232686</td>\n",
              "                        <td id=\"T_61800860_38f9_11eb_b73b_0242ac1c0002row6_col6\" class=\"data row6 col6\" >1.000000</td>\n",
              "                        <td id=\"T_61800860_38f9_11eb_b73b_0242ac1c0002row6_col7\" class=\"data row6 col7\" >-0.523379</td>\n",
              "                        <td id=\"T_61800860_38f9_11eb_b73b_0242ac1c0002row6_col8\" class=\"data row6 col8\" >-0.239853</td>\n",
              "                        <td id=\"T_61800860_38f9_11eb_b73b_0242ac1c0002row6_col9\" class=\"data row6 col9\" >-0.035993</td>\n",
              "                        <td id=\"T_61800860_38f9_11eb_b73b_0242ac1c0002row6_col10\" class=\"data row6 col10\" >0.178272</td>\n",
              "                        <td id=\"T_61800860_38f9_11eb_b73b_0242ac1c0002row6_col11\" class=\"data row6 col11\" >-0.147246</td>\n",
              "            </tr>\n",
              "            <tr>\n",
              "                        <th id=\"T_61800860_38f9_11eb_b73b_0242ac1c0002level0_row7\" class=\"row_heading level0 row7\" >CHE</th>\n",
              "                        <td id=\"T_61800860_38f9_11eb_b73b_0242ac1c0002row7_col0\" class=\"data row7 col0\" >-0.338755</td>\n",
              "                        <td id=\"T_61800860_38f9_11eb_b73b_0242ac1c0002row7_col1\" class=\"data row7 col1\" >-0.101350</td>\n",
              "                        <td id=\"T_61800860_38f9_11eb_b73b_0242ac1c0002row7_col2\" class=\"data row7 col2\" >0.661454</td>\n",
              "                        <td id=\"T_61800860_38f9_11eb_b73b_0242ac1c0002row7_col3\" class=\"data row7 col3\" >-0.142965</td>\n",
              "                        <td id=\"T_61800860_38f9_11eb_b73b_0242ac1c0002row7_col4\" class=\"data row7 col4\" >0.319396</td>\n",
              "                        <td id=\"T_61800860_38f9_11eb_b73b_0242ac1c0002row7_col5\" class=\"data row7 col5\" >-0.339881</td>\n",
              "                        <td id=\"T_61800860_38f9_11eb_b73b_0242ac1c0002row7_col6\" class=\"data row7 col6\" >-0.523379</td>\n",
              "                        <td id=\"T_61800860_38f9_11eb_b73b_0242ac1c0002row7_col7\" class=\"data row7 col7\" >1.000000</td>\n",
              "                        <td id=\"T_61800860_38f9_11eb_b73b_0242ac1c0002row7_col8\" class=\"data row7 col8\" >0.548528</td>\n",
              "                        <td id=\"T_61800860_38f9_11eb_b73b_0242ac1c0002row7_col9\" class=\"data row7 col9\" >-0.054911</td>\n",
              "                        <td id=\"T_61800860_38f9_11eb_b73b_0242ac1c0002row7_col10\" class=\"data row7 col10\" >-0.143679</td>\n",
              "                        <td id=\"T_61800860_38f9_11eb_b73b_0242ac1c0002row7_col11\" class=\"data row7 col11\" >0.265303</td>\n",
              "            </tr>\n",
              "            <tr>\n",
              "                        <th id=\"T_61800860_38f9_11eb_b73b_0242ac1c0002level0_row8\" class=\"row_heading level0 row8\" >CHOL</th>\n",
              "                        <td id=\"T_61800860_38f9_11eb_b73b_0242ac1c0002row8_col0\" class=\"data row8 col0\" >-0.153182</td>\n",
              "                        <td id=\"T_61800860_38f9_11eb_b73b_0242ac1c0002row8_col1\" class=\"data row8 col1\" >0.074952</td>\n",
              "                        <td id=\"T_61800860_38f9_11eb_b73b_0242ac1c0002row8_col2\" class=\"data row8 col2\" >0.300800</td>\n",
              "                        <td id=\"T_61800860_38f9_11eb_b73b_0242ac1c0002row8_col3\" class=\"data row8 col3\" >0.123440</td>\n",
              "                        <td id=\"T_61800860_38f9_11eb_b73b_0242ac1c0002row8_col4\" class=\"data row8 col4\" >0.249046</td>\n",
              "                        <td id=\"T_61800860_38f9_11eb_b73b_0242ac1c0002row8_col5\" class=\"data row8 col5\" >-0.343648</td>\n",
              "                        <td id=\"T_61800860_38f9_11eb_b73b_0242ac1c0002row8_col6\" class=\"data row8 col6\" >-0.239853</td>\n",
              "                        <td id=\"T_61800860_38f9_11eb_b73b_0242ac1c0002row8_col7\" class=\"data row8 col7\" >0.548528</td>\n",
              "                        <td id=\"T_61800860_38f9_11eb_b73b_0242ac1c0002row8_col8\" class=\"data row8 col8\" >1.000000</td>\n",
              "                        <td id=\"T_61800860_38f9_11eb_b73b_0242ac1c0002row8_col9\" class=\"data row8 col9\" >-0.090072</td>\n",
              "                        <td id=\"T_61800860_38f9_11eb_b73b_0242ac1c0002row8_col10\" class=\"data row8 col10\" >0.029196</td>\n",
              "                        <td id=\"T_61800860_38f9_11eb_b73b_0242ac1c0002row8_col11\" class=\"data row8 col11\" >0.181805</td>\n",
              "            </tr>\n",
              "            <tr>\n",
              "                        <th id=\"T_61800860_38f9_11eb_b73b_0242ac1c0002level0_row9\" class=\"row_heading level0 row9\" >CREA</th>\n",
              "                        <td id=\"T_61800860_38f9_11eb_b73b_0242ac1c0002row9_col0\" class=\"data row9 col0\" >-0.010994</td>\n",
              "                        <td id=\"T_61800860_38f9_11eb_b73b_0242ac1c0002row9_col1\" class=\"data row9 col1\" >-0.074924</td>\n",
              "                        <td id=\"T_61800860_38f9_11eb_b73b_0242ac1c0002row9_col2\" class=\"data row9 col2\" >-0.106190</td>\n",
              "                        <td id=\"T_61800860_38f9_11eb_b73b_0242ac1c0002row9_col3\" class=\"data row9 col3\" >0.232433</td>\n",
              "                        <td id=\"T_61800860_38f9_11eb_b73b_0242ac1c0002row9_col4\" class=\"data row9 col4\" >-0.160309</td>\n",
              "                        <td id=\"T_61800860_38f9_11eb_b73b_0242ac1c0002row9_col5\" class=\"data row9 col5\" >-0.090137</td>\n",
              "                        <td id=\"T_61800860_38f9_11eb_b73b_0242ac1c0002row9_col6\" class=\"data row9 col6\" >-0.035993</td>\n",
              "                        <td id=\"T_61800860_38f9_11eb_b73b_0242ac1c0002row9_col7\" class=\"data row9 col7\" >-0.054911</td>\n",
              "                        <td id=\"T_61800860_38f9_11eb_b73b_0242ac1c0002row9_col8\" class=\"data row9 col8\" >-0.090072</td>\n",
              "                        <td id=\"T_61800860_38f9_11eb_b73b_0242ac1c0002row9_col9\" class=\"data row9 col9\" >1.000000</td>\n",
              "                        <td id=\"T_61800860_38f9_11eb_b73b_0242ac1c0002row9_col10\" class=\"data row9 col10\" >0.086596</td>\n",
              "                        <td id=\"T_61800860_38f9_11eb_b73b_0242ac1c0002row9_col11\" class=\"data row9 col11\" >-0.162577</td>\n",
              "            </tr>\n",
              "            <tr>\n",
              "                        <th id=\"T_61800860_38f9_11eb_b73b_0242ac1c0002level0_row10\" class=\"row_heading level0 row10\" >GGT</th>\n",
              "                        <td id=\"T_61800860_38f9_11eb_b73b_0242ac1c0002row10_col0\" class=\"data row10 col0\" >0.199199</td>\n",
              "                        <td id=\"T_61800860_38f9_11eb_b73b_0242ac1c0002row10_col1\" class=\"data row10 col1\" >-0.071181</td>\n",
              "                        <td id=\"T_61800860_38f9_11eb_b73b_0242ac1c0002row10_col2\" class=\"data row10 col2\" >-0.116798</td>\n",
              "                        <td id=\"T_61800860_38f9_11eb_b73b_0242ac1c0002row10_col3\" class=\"data row10 col3\" >0.596679</td>\n",
              "                        <td id=\"T_61800860_38f9_11eb_b73b_0242ac1c0002row10_col4\" class=\"data row10 col4\" >-0.094190</td>\n",
              "                        <td id=\"T_61800860_38f9_11eb_b73b_0242ac1c0002row10_col5\" class=\"data row10 col5\" >0.415994</td>\n",
              "                        <td id=\"T_61800860_38f9_11eb_b73b_0242ac1c0002row10_col6\" class=\"data row10 col6\" >0.178272</td>\n",
              "                        <td id=\"T_61800860_38f9_11eb_b73b_0242ac1c0002row10_col7\" class=\"data row10 col7\" >-0.143679</td>\n",
              "                        <td id=\"T_61800860_38f9_11eb_b73b_0242ac1c0002row10_col8\" class=\"data row10 col8\" >0.029196</td>\n",
              "                        <td id=\"T_61800860_38f9_11eb_b73b_0242ac1c0002row10_col9\" class=\"data row10 col9\" >0.086596</td>\n",
              "                        <td id=\"T_61800860_38f9_11eb_b73b_0242ac1c0002row10_col10\" class=\"data row10 col10\" >1.000000</td>\n",
              "                        <td id=\"T_61800860_38f9_11eb_b73b_0242ac1c0002row10_col11\" class=\"data row10 col11\" >0.125889</td>\n",
              "            </tr>\n",
              "            <tr>\n",
              "                        <th id=\"T_61800860_38f9_11eb_b73b_0242ac1c0002level0_row11\" class=\"row_heading level0 row11\" >PROT</th>\n",
              "                        <td id=\"T_61800860_38f9_11eb_b73b_0242ac1c0002row11_col0\" class=\"data row11 col0\" >-0.139654</td>\n",
              "                        <td id=\"T_61800860_38f9_11eb_b73b_0242ac1c0002row11_col1\" class=\"data row11 col1\" >0.108524</td>\n",
              "                        <td id=\"T_61800860_38f9_11eb_b73b_0242ac1c0002row11_col2\" class=\"data row11 col2\" >0.489460</td>\n",
              "                        <td id=\"T_61800860_38f9_11eb_b73b_0242ac1c0002row11_col3\" class=\"data row11 col3\" >-0.116595</td>\n",
              "                        <td id=\"T_61800860_38f9_11eb_b73b_0242ac1c0002row11_col4\" class=\"data row11 col4\" >0.146987</td>\n",
              "                        <td id=\"T_61800860_38f9_11eb_b73b_0242ac1c0002row11_col5\" class=\"data row11 col5\" >0.166189</td>\n",
              "                        <td id=\"T_61800860_38f9_11eb_b73b_0242ac1c0002row11_col6\" class=\"data row11 col6\" >-0.147246</td>\n",
              "                        <td id=\"T_61800860_38f9_11eb_b73b_0242ac1c0002row11_col7\" class=\"data row11 col7\" >0.265303</td>\n",
              "                        <td id=\"T_61800860_38f9_11eb_b73b_0242ac1c0002row11_col8\" class=\"data row11 col8\" >0.181805</td>\n",
              "                        <td id=\"T_61800860_38f9_11eb_b73b_0242ac1c0002row11_col9\" class=\"data row11 col9\" >-0.162577</td>\n",
              "                        <td id=\"T_61800860_38f9_11eb_b73b_0242ac1c0002row11_col10\" class=\"data row11 col10\" >0.125889</td>\n",
              "                        <td id=\"T_61800860_38f9_11eb_b73b_0242ac1c0002row11_col11\" class=\"data row11 col11\" >1.000000</td>\n",
              "            </tr>\n",
              "    </tbody></table>"
            ],
            "text/plain": [
              "<pandas.io.formats.style.Styler at 0x7f05d4c77668>"
            ]
          },
          "metadata": {
            "tags": []
          },
          "execution_count": 355
        }
      ]
    },
    {
      "cell_type": "markdown",
      "metadata": {
        "id": "ZQHB1wLh591c"
      },
      "source": [
        "**FUNÇÕES AUXILIARES**\n",
        "\n",
        "Funções auxiliares responsáveis pelo encapsulamento do código.\n",
        "\n",
        "**função buildClassifier:**\n",
        "\n",
        "@param metric Métrica de classificador(\"gnb\", \"knn\", \"mlp\", \"dtr\")\n",
        "\n",
        "@param normalize Valor 0 para construir o classificador com a base não normalizada ou 1 para com a base normalizada.\n",
        "\n",
        "@param printStatistics Valor 0 para não imprimir as estatísticas do classificador e 1 para imprimir.\n",
        "\n",
        "@param value Valor opcional para uso de métodos que possuem um parâmetro para o seu funcionamento, como o K-Nearest Neighbirs(k) e o Multiplayer Perceptron (iterações).\n",
        "\n",
        "@return Retorna o classificador construído com através do aprendizado de máquina sobre a base de dados.\n"
      ]
    },
    {
      "cell_type": "code",
      "metadata": {
        "id": "IfS-9RrLUebP"
      },
      "source": [
        "def printResults(classifier, y_test, normalize=0):\n",
        "  if normalize == 1:\n",
        "    y_pred = classifier.predict(X_testN)\n",
        "    confusion = confusion_matrix(y_testN, y_pred)\n",
        "  else:\n",
        "    y_pred = classifier.predict(X_test)\n",
        "    confusion = confusion_matrix(y_test, y_pred)\n",
        "\n",
        "  total=sum(sum(confusion))\n",
        "\n",
        "  accuracy = (confusion[0,0]+confusion[1,1])/total\n",
        "  sensitivity = confusion[0,0]/(confusion[0,0]+confusion[0,1])\n",
        "  specificity = confusion[1,1]/(confusion[1,0]+confusion[1,1])\n",
        "\n",
        "  print('Accuracy:', accuracy)\n",
        "  print('Sensitivity:', sensitivity )\n",
        "  print('Specificity:', specificity)\n",
        "  print('Confusion Matrix:\\n', confusion)"
      ],
      "execution_count": null,
      "outputs": []
    },
    {
      "cell_type": "code",
      "metadata": {
        "id": "HtUlJ6bdsRfp"
      },
      "source": [
        "def buildClassifier(metric, normalize=0, printStatistics=0, value=5):\n",
        "  if metric == \"dtr\":\n",
        "    classifier = DecisionTreeClassifier()\n",
        "    if normalize == 1:\n",
        "      classifier.fit(X_trainN, y_trainN)\n",
        "    else:\n",
        "      classifier.fit(X_train, y_train)\n",
        "  elif metric == \"knn\":\n",
        "    classifier = KNeighborsClassifier(n_neighbors=int(value))\n",
        "    if normalize == 1:\n",
        "      classifier.fit(X_trainN, y_trainN)\n",
        "    else:\n",
        "      classifier.fit(X_train, y_train)\n",
        "  elif metric == \"gnb\":\n",
        "    classifier = GaussianNB()\n",
        "    if normalize == 1:\n",
        "      classifier.fit(X_trainN, y_trainN)\n",
        "    else:\n",
        "      classifier.fit(X_train, y_train)\n",
        "  elif metric == \"mlp\":\n",
        "    classifier = MLPClassifier(random_state=random_state, max_iter=int(value))\n",
        "    if normalize == 1:\n",
        "      classifier.fit(X_trainN, y_trainN)\n",
        "    else:\n",
        "      classifier.fit(X_train, y_train)  \n",
        "  else:\n",
        "    raise Exception(\"Unidentified classifier. Possible values: \"\"decision\"\", \"\"knn\"\", \"\"gnb\"\", \"\"mlp\"\"\")\n",
        "\n",
        "  if printStatistics == 1:\n",
        "    if normalize == 1:\n",
        "      printResults(classifier, y_testN, normalize)\n",
        "    else:\n",
        "      printResults(classifier, y_test, normalize)\n",
        "  return classifier"
      ],
      "execution_count": null,
      "outputs": []
    },
    {
      "cell_type": "markdown",
      "metadata": {
        "id": "BoKPNtvr_IL1"
      },
      "source": [
        "**VALIDAÇÃO DO MÉTODO E CLASSIFICAÇÃO DAS AMOSTRAS RESERVADAS ANTERIORMENTE**\n",
        "\n",
        "**Classificadores implementados:**\n",
        "\n",
        "Gaussian Naive Bayes: \"gnb\"\n",
        "\n",
        "Multiplayer Perceptron: \"mlp\"\n",
        "\n",
        "K-Nearest Neighbors: \"knn\"\n",
        "\n",
        "Decision Tree: \"dtr\"\n",
        "\n",
        "\n",
        "**Classificação**: Predictions."
      ]
    },
    {
      "cell_type": "code",
      "metadata": {
        "colab": {
          "base_uri": "https://localhost:8080/"
        },
        "id": "f77xBlRj0fm8",
        "outputId": "aeab0b25-9d01-473c-93fc-b113cb864b87"
      },
      "source": [
        "print(\"\\nMultiplayer Perceptron with Normalized Data\")\n",
        "classifier = buildClassifier(\"mlp\", 1, 1, 50)\n",
        "print(\"Predictions:\", classifier.predict(forClassifierN))\n",
        "\n",
        "print(\"\\nMultiplayer Perceptron with Non-Normalized Data\")\n",
        "classifier = buildClassifier(\"mlp\", 0, 1, 50)\n",
        "print(\"Predictions:\", classifier.predict(forClassifier))\n",
        "\n",
        "print(\"\\nGaussian Naive Bayes with Normalized Data\")\n",
        "classifier = buildClassifier(\"gnb\", 1, 1)\n",
        "print(\"Predictions:\", classifier.predict(forClassifierN))\n",
        "\n",
        "print(\"\\nGaussian Naive Bayes with Non-Normalized Data\")\n",
        "classifier = buildClassifier(\"gnb\", 0, 1)\n",
        "print(\"Predictions:\", classifier.predict(forClassifier))\n",
        "\n",
        "print(\"\\nDecision Tree with Normalized Data\")\n",
        "classifier = buildClassifier(\"dtr\", 1, 1)\n",
        "print(\"Predictions:\", classifier.predict(forClassifierN))\n",
        "\n",
        "print(\"\\nDecision Tree with Non-Normalized Data\")\n",
        "classifier = buildClassifier(\"dtr\", 0, 1)\n",
        "print(\"Predictions:\", classifier.predict(forClassifier))\n",
        "\n",
        "print(\"\\nK-Nearest Neighbors with Normalized Data\")\n",
        "classifier = buildClassifier(\"knn\", 1, 1, 10)\n",
        "print(\"Predictions:\", classifier.predict(forClassifierN))\n",
        "\n",
        "print(\"\\nK-Nearest Neighbors Non-Normalized Data\")\n",
        "classifier = buildClassifier(\"knn\", 0, 1, 10)\n",
        "print(\"Predictions:\", classifier.predict(forClassifier))"
      ],
      "execution_count": null,
      "outputs": [
        {
          "output_type": "stream",
          "text": [
            "\n",
            "Multiplayer Perceptron with Normalized Data\n",
            "Accuracy: 0.8260869565217391\n",
            "Sensitivity: 0.9166666666666666\n",
            "Specificity: 0.7272727272727273\n",
            "Confusion Matrix:\n",
            " [[11  1]\n",
            " [ 3  8]]\n",
            "Predictions: [1 0 0 0 1 1 1]\n",
            "\n",
            "Multiplayer Perceptron with Non-Normalized Data\n",
            "Accuracy: 0.9130434782608695\n",
            "Sensitivity: 0.9166666666666666\n",
            "Specificity: 0.9090909090909091\n",
            "Confusion Matrix:\n",
            " [[11  1]\n",
            " [ 1 10]]\n",
            "Predictions: [1 0 1 0 1 1 0]\n",
            "\n",
            "Gaussian Naive Bayes with Normalized Data\n",
            "Accuracy: 0.8260869565217391\n",
            "Sensitivity: 0.9166666666666666\n",
            "Specificity: 0.7272727272727273\n",
            "Confusion Matrix:\n",
            " [[11  1]\n",
            " [ 3  8]]\n",
            "Predictions: [1 1 1 1 1 1 1]\n",
            "\n",
            "Gaussian Naive Bayes with Non-Normalized Data\n",
            "Accuracy: 0.8260869565217391\n",
            "Sensitivity: 0.9166666666666666\n",
            "Specificity: 0.7272727272727273\n",
            "Confusion Matrix:\n",
            " [[11  1]\n",
            " [ 3  8]]\n",
            "Predictions: [1 1 1 1 1 1 1]\n",
            "\n",
            "Decision Tree with Normalized Data\n",
            "Accuracy: 0.9565217391304348\n",
            "Sensitivity: 0.9166666666666666\n",
            "Specificity: 1.0\n",
            "Confusion Matrix:\n",
            " [[11  1]\n",
            " [ 0 11]]\n",
            "Predictions: [0 0 1 0 0 0 1]\n",
            "\n",
            "Decision Tree with Non-Normalized Data\n",
            "Accuracy: 0.9565217391304348\n",
            "Sensitivity: 0.9166666666666666\n",
            "Specificity: 1.0\n",
            "Confusion Matrix:\n",
            " [[11  1]\n",
            " [ 0 11]]\n",
            "Predictions: [0 0 1 0 0 1 0]\n",
            "\n",
            "K-Nearest Neighbors with Normalized Data\n",
            "Accuracy: 0.782608695652174\n",
            "Sensitivity: 0.9166666666666666\n",
            "Specificity: 0.6363636363636364\n",
            "Confusion Matrix:\n",
            " [[11  1]\n",
            " [ 4  7]]\n",
            "Predictions: [0 0 0 0 1 0 0]\n",
            "\n",
            "K-Nearest Neighbors Non-Normalized Data\n",
            "Accuracy: 0.9565217391304348\n",
            "Sensitivity: 1.0\n",
            "Specificity: 0.9090909090909091\n",
            "Confusion Matrix:\n",
            " [[12  0]\n",
            " [ 1 10]]\n",
            "Predictions: [1 0 0 0 1 1 1]\n"
          ],
          "name": "stdout"
        },
        {
          "output_type": "stream",
          "text": [
            "/usr/local/lib/python3.6/dist-packages/sklearn/neural_network/_multilayer_perceptron.py:571: ConvergenceWarning: Stochastic Optimizer: Maximum iterations (50) reached and the optimization hasn't converged yet.\n",
            "  % self.max_iter, ConvergenceWarning)\n",
            "/usr/local/lib/python3.6/dist-packages/sklearn/neural_network/_multilayer_perceptron.py:571: ConvergenceWarning: Stochastic Optimizer: Maximum iterations (50) reached and the optimization hasn't converged yet.\n",
            "  % self.max_iter, ConvergenceWarning)\n"
          ],
          "name": "stderr"
        }
      ]
    },
    {
      "cell_type": "markdown",
      "metadata": {
        "id": "DFiOvWs0khiQ"
      },
      "source": [
        "## **Conclusões**\n",
        "\n",
        "**Resultados**\n",
        "\n",
        "Os resultados da classificação obtidos com os classificadores construídos, com excessão do Naive Bayes Gaussiano, seja com a base normalizada e não normalizada, apresentaram uma variação considerável a cada execução, o que mostrou uma certa instabilidade.\n",
        "\n",
        "Por outro lado, os resultados obtidos com o método Naive Bayes são sempre concordantes com a classificação de não-doador para todas as instâncias, tanto para base normalizada quanto para a base não normalizada.\n",
        "\n",
        "Em todos os testes realizados as estatísticas foram ótimas. Mesmo com um número reduzido de amostras, os métodos apresentaram acurácia maior que 80% de acertos, chegando até 100%, assim como a especificidade e sensibilidade. Portanto, não foi necessária a implementação de um método de validação cruzada, sendo o undersampling suficiente para um ótimo resultado.\n",
        "\n",
        "**Normalização e não normalização**\n",
        "\n",
        "Com método Multiplayer Perceptron, notei, em algumas execuções, que o classificador construindo com a base de dados normalizada tende a apresentar de mais classificações de instâncias com a classe 0.\n",
        "\n",
        "Nos métodos Árvore de Decisão e K-Nearest Neighbors ficou evidente que a base de dados normalizada tende a apresentar mais classificações da classe doador (0), enquanto para classe não normalizada ocorrem mais classificações não doador.\n",
        "\n",
        "### **Considerações finais**\n",
        "\n",
        "A separação das instâncias categorizadas como '0s=suspect Blood Donor' aumentou consideravelmente a complexidade do pré-processamento, especialmente na normalização da base de dados. Uma alternativa que encontrei para esta dificuldade foi aplicar a normalização sobre as instâncias separadas para classificação posterior de um modo também separado. Tentei de várias formas de normalizar a base de dados como um todo. Mas, ocorreu um problema de tipo, pois estava gerando valores (< float dtype64) muito pequenos os quais o método de aprendizagem Multiplayer Perceptron não funcionava. Então, fiz dessa maneira. Espero que considere desta forma, pois eu sei que preciso normalizar a base como um todo, mas a separação de instâncias trouxe uma complexidade a mais."
      ]
    }
  ]
}